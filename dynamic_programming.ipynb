{
 "cells": [
  {
   "cell_type": "markdown",
   "id": "bf653caa-b47b-44b3-862b-4e3133f784fe",
   "metadata": {},
   "source": [
    "# Dynamic programming"
   ]
  },
  {
   "cell_type": "markdown",
   "id": "b186e9fa-6900-48f3-8cd3-9926f72ca195",
   "metadata": {},
   "source": [
    "* Dynamic programmign is an algorithmic technique which is usually based on a recurrent formula and one (or some) starting states. It refers to simplifying a complicated problem by breaking it down into simpler sub-problems in a recursive manner.\n",
    "\n",
    "* A sub-solution of the problem is constructed from previously found ones.\n",
    "\n",
    "* DP solutions have a polynomial complexity which assures a much faster running time than other techniques like backtracking, brute-force etc.\n",
    " \n",
    "* The technique was developed by Richard Bellman in the 1950s."
   ]
  },
  {
   "cell_type": "markdown",
   "id": "aafda035-b3ca-45fc-b6c6-eb3649970ed0",
   "metadata": {},
   "source": [
    "Every Dynamic Programming problem has a schema to be followed:\n",
    "\n",
    "    * Show that the problem can be broken down into optimal sub-problems.\n",
    "    * Recursively define the value of the solution by expressing it in terms of optimal solutions for smaller sub-problems.\n",
    "    * Compute the value of the optimal solution in bottom-up/top-donw fashion.\n",
    "    * Construct an optimal solution from the computed information."
   ]
  },
  {
   "cell_type": "markdown",
   "id": "30eecd05-5fde-4eb0-8c8c-79647ef9eb1c",
   "metadata": {},
   "source": [
    "Disadvantages of Dynamic Programming\n",
    "\n",
    "    * It takes a lot of memory to store the calculated result of every subproblem without ensuring if the stored value will be utilized or not.\n",
    "    * Many times, output value gets stored and never gets utilized in the next subproblems while execution. It leads to unnecessary memory utilization.\n",
    "    * No general formation of Dynamic Program is available; every problem has to be solving in its own way."
   ]
  },
  {
   "cell_type": "markdown",
   "id": "3203d051-3058-415b-9376-06e43d3eb856",
   "metadata": {},
   "source": [
    "# Fibonacci problem"
   ]
  },
  {
   "cell_type": "markdown",
   "id": "848db3c0-f073-4105-bb2c-a123f964d8d7",
   "metadata": {},
   "source": [
    "\n",
    "<img src=\"https://miro.medium.com/max/586/1*o8TKBXW0WmUZt8pKVargdg.png\">"
   ]
  },
  {
   "cell_type": "code",
   "execution_count": 1,
   "id": "c6a379dd-3201-4e16-9d83-d83f39739991",
   "metadata": {},
   "outputs": [],
   "source": [
    "# https://jakevdp.github.io/PythonDataScienceHandbook/01.07-timing-and-profiling.html\n",
    "%load_ext line_profiler\n",
    "%load_ext memory_profiler"
   ]
  },
  {
   "cell_type": "markdown",
   "id": "647ee602-ee71-467e-b31c-579d12970bfb",
   "metadata": {},
   "source": [
    "## Recursive Fibo"
   ]
  },
  {
   "cell_type": "code",
   "execution_count": 2,
   "id": "831bb5ed-3da6-4cad-a866-bbf8d35251d2",
   "metadata": {},
   "outputs": [],
   "source": [
    "def get_fibo_recursive(n):\n",
    "    if n<= 1:\n",
    "        return n\n",
    "    return get_fibo_recursive(n-1) + get_fibo_recursive(n-2)"
   ]
  },
  {
   "cell_type": "code",
   "execution_count": 4,
   "id": "fa23a7ef-5e89-493d-a615-ca2cafd34b3b",
   "metadata": {},
   "outputs": [
    {
     "name": "stdout",
     "output_type": "stream",
     "text": [
      "*** KeyboardInterrupt exception caught in code being profiled."
     ]
    },
    {
     "data": {
      "text/plain": [
       "Timer unit: 1e-06 s\n",
       "\n",
       "Total time: 18.6733 s\n",
       "File: /tmp/ipykernel_20411/235621019.py\n",
       "Function: get_fibo_recursive at line 1\n",
       "\n",
       "Line #      Hits         Time  Per Hit   % Time  Line Contents\n",
       "==============================================================\n",
       "     1                                           def get_fibo_recursive(n):\n",
       "     2  37559998    9416859.0      0.3     50.4      if n<= 1:\n",
       "     3  18779988    3929302.0      0.2     21.0          return n\n",
       "     4  18780010    5327172.0      0.3     28.5      return get_fibo_recursive(n-1) + get_fibo_recursive(n-2)"
      ]
     },
     "metadata": {},
     "output_type": "display_data"
    }
   ],
   "source": [
    "%lprun -f get_fibo_recursive get_fibo_recursive(40)"
   ]
  },
  {
   "cell_type": "code",
   "execution_count": 5,
   "id": "8cf6a38d-c3d3-4e88-ab95-e9922409a046",
   "metadata": {},
   "outputs": [
    {
     "name": "stdout",
     "output_type": "stream",
     "text": [
      "Overwriting fibo_1.py\n"
     ]
    }
   ],
   "source": [
    "%%file fibo_1.py\n",
    "def get_fibo_recursive(n):\n",
    "    if n<= 1:\n",
    "        return n\n",
    "    return get_fibo_recursive(n-1) + get_fibo_recursive(n-2)"
   ]
  },
  {
   "cell_type": "code",
   "execution_count": 6,
   "id": "f6a31950-13e2-4166-ab13-6b61f27c1e20",
   "metadata": {},
   "outputs": [
    {
     "name": "stdout",
     "output_type": "stream",
     "text": [
      "\n"
     ]
    },
    {
     "data": {
      "text/plain": [
       "Filename: /home/rc/workspace/Dynamic programming/fibo_1.py\n",
       "\n",
       "Line #    Mem usage    Increment   Line Contents\n",
       "================================================\n",
       "     1     57.8 MiB     57.8 MiB   def get_fibo_recursive(n):\n",
       "     2     57.8 MiB      0.0 MiB       if n<= 1:\n",
       "     3     57.8 MiB      0.0 MiB           return n\n",
       "     4     57.8 MiB      0.0 MiB       return get_fibo_recursive(n-1) + get_fibo_recursive(n-2)"
      ]
     },
     "metadata": {},
     "output_type": "display_data"
    }
   ],
   "source": [
    "from fibo_1 import get_fibo_recursive\n",
    "%mprun -f get_fibo_recursive get_fibo_recursive(20)"
   ]
  },
  {
   "cell_type": "markdown",
   "id": "9c4ed28f-f0ea-490f-997b-d3901cc4eaa4",
   "metadata": {},
   "source": [
    "## DP fibo solution"
   ]
  },
  {
   "cell_type": "markdown",
   "id": "12e4cddc-9d7f-44ae-a484-6b16b1a918a8",
   "metadata": {},
   "source": [
    "<img src=\"http://ugweb.cs.ualberta.ca/~c274/web/ConcreteComputing/image/fib_tree.png\">"
   ]
  },
  {
   "cell_type": "markdown",
   "id": "54cc6875-11e7-41c6-a462-1afc4fd1e37d",
   "metadata": {},
   "source": [
    "### Bottom-Up"
   ]
  },
  {
   "cell_type": "code",
   "execution_count": 7,
   "id": "72ada08e-55d7-4739-8c39-df505570d6d8",
   "metadata": {},
   "outputs": [],
   "source": [
    "def get_fibo_bu(n):\n",
    "    f = [0,1]    \n",
    "    for i in range(2,n+1):\n",
    "        f.append(f[i-1] + f[i-2])\n",
    "    return f[n]"
   ]
  },
  {
   "cell_type": "code",
   "execution_count": 10,
   "id": "c85136c9-c726-48ac-a5c5-4bbbe426a8d4",
   "metadata": {},
   "outputs": [
    {
     "data": {
      "text/plain": [
       "Timer unit: 1e-06 s\n",
       "\n",
       "Total time: 8.8e-05 s\n",
       "File: /tmp/ipykernel_20411/2297600804.py\n",
       "Function: get_fibo_bu at line 1\n",
       "\n",
       "Line #      Hits         Time  Per Hit   % Time  Line Contents\n",
       "==============================================================\n",
       "     1                                           def get_fibo_bu(n):\n",
       "     2         1          2.0      2.0      2.3      f = [0,1]    \n",
       "     3        60         32.0      0.5     36.4      for i in range(2,n+1):\n",
       "     4        59         53.0      0.9     60.2          f.append(f[i-1] + f[i-2])\n",
       "     5         1          1.0      1.0      1.1      return f[n]"
      ]
     },
     "metadata": {},
     "output_type": "display_data"
    }
   ],
   "source": [
    "%lprun -f get_fibo_bu get_fibo_bu(60)"
   ]
  },
  {
   "cell_type": "code",
   "execution_count": 11,
   "id": "200fe5dc-dd9b-45a6-99b4-f8be73ecc38b",
   "metadata": {},
   "outputs": [
    {
     "name": "stdout",
     "output_type": "stream",
     "text": [
      "Overwriting fibo_2.py\n"
     ]
    }
   ],
   "source": [
    "%%file fibo_2.py\n",
    "def get_fibo_bu(n):\n",
    "    f = [0,1]    \n",
    "    for i in range(2,n+1):\n",
    "        f.append(f[i-1] + f[i-2])\n",
    "    return f[n]"
   ]
  },
  {
   "cell_type": "code",
   "execution_count": 12,
   "id": "e4ab60ff-5147-4c1b-957e-aa70eac0d19c",
   "metadata": {},
   "outputs": [
    {
     "name": "stdout",
     "output_type": "stream",
     "text": [
      "\n"
     ]
    },
    {
     "data": {
      "text/plain": [
       "Filename: /home/rc/workspace/Dynamic programming/fibo_2.py\n",
       "\n",
       "Line #    Mem usage    Increment   Line Contents\n",
       "================================================\n",
       "     1     57.8 MiB     57.8 MiB   def get_fibo_bu(n):\n",
       "     2     57.8 MiB      0.0 MiB       f = [0,1]    \n",
       "     3     57.8 MiB      0.0 MiB       for i in range(2,n+1):\n",
       "     4     57.8 MiB      0.0 MiB           f.append(f[i-1] + f[i-2])\n",
       "     5     57.8 MiB      0.0 MiB       return f[n]"
      ]
     },
     "metadata": {},
     "output_type": "display_data"
    }
   ],
   "source": [
    "from fibo_2 import get_fibo_bu\n",
    "%mprun -f get_fibo_bu get_fibo_bu(46)"
   ]
  },
  {
   "cell_type": "markdown",
   "id": "95e10ac6-8fe0-4852-bb05-61ad4fc5208e",
   "metadata": {},
   "source": [
    "### Top-Down"
   ]
  },
  {
   "cell_type": "code",
   "execution_count": 13,
   "id": "7b16fe5c-6260-4956-92e4-3ef1c8453c32",
   "metadata": {},
   "outputs": [],
   "source": [
    "def get_fibo_td(n,fib):        \n",
    "    if fib[n] == -1:\n",
    "        if n <= 1:\n",
    "            fib[n] = n\n",
    "        else:\n",
    "            fib[n] = get_fibo_td(n-1,fib) + get_fibo_td(n-2,fib)\n",
    "    return fib[n]"
   ]
  },
  {
   "cell_type": "code",
   "execution_count": 15,
   "id": "fea012d5-b931-4146-9e23-6f0328ba2db8",
   "metadata": {},
   "outputs": [
    {
     "data": {
      "text/plain": [
       "Timer unit: 1e-06 s\n",
       "\n",
       "Total time: 0.000989 s\n",
       "File: /tmp/ipykernel_20411/2307881600.py\n",
       "Function: get_fibo_td at line 1\n",
       "\n",
       "Line #      Hits         Time  Per Hit   % Time  Line Contents\n",
       "==============================================================\n",
       "     1                                           def get_fibo_td(n,fib):        \n",
       "     2       199        215.0      1.1     21.7      if fib[n] == -1:\n",
       "     3       101         98.0      1.0      9.9          if n <= 1:\n",
       "     4         2          2.0      1.0      0.2              fib[n] = n\n",
       "     5                                                   else:\n",
       "     6        99        142.0      1.4     14.4              fib[n] = get_fibo_td(n-1,fib) + get_fibo_td(n-2,fib)\n",
       "     7       199        532.0      2.7     53.8      return fib[n]"
      ]
     },
     "metadata": {},
     "output_type": "display_data"
    }
   ],
   "source": [
    "n = 100\n",
    "%lprun -f get_fibo_td get_fibo_td(n,(n+1)*[-1])\n",
    "#get_fibo_td(n,(n+1)*[-1])"
   ]
  },
  {
   "cell_type": "code",
   "execution_count": null,
   "id": "08e194c7-10c8-49ab-854d-3e03becfda65",
   "metadata": {},
   "outputs": [],
   "source": [
    "%%file fibo_3.py\n",
    "def get_fibo_td(n,fib):        \n",
    "    if fib[n] == -1:\n",
    "        if n <= 1:\n",
    "            fib[n] = n\n",
    "        else:\n",
    "            fib[n] = get_fibo_td(n-1,fib) + get_fibo_td(n-2,fib)\n",
    "    return fib[n]"
   ]
  },
  {
   "cell_type": "code",
   "execution_count": null,
   "id": "482208b7-e706-4fb9-a481-4550a25df44e",
   "metadata": {},
   "outputs": [],
   "source": [
    "from fibo_3 import get_fibo_td\n",
    "n = 1000\n",
    "%mprun -f get_fibo_td get_fibo_td(n,(n+1)*[-1])"
   ]
  }
 ],
 "metadata": {
  "kernelspec": {
   "display_name": "Python 3 (ipykernel)",
   "language": "python",
   "name": "python3"
  },
  "language_info": {
   "codemirror_mode": {
    "name": "ipython",
    "version": 3
   },
   "file_extension": ".py",
   "mimetype": "text/x-python",
   "name": "python",
   "nbconvert_exporter": "python",
   "pygments_lexer": "ipython3",
   "version": "3.8.10"
  }
 },
 "nbformat": 4,
 "nbformat_minor": 5
}
